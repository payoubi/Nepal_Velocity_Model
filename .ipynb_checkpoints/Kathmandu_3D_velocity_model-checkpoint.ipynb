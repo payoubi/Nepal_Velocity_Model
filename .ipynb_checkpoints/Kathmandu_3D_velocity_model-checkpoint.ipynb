{
 "cells": [
  {
   "cell_type": "markdown",
   "metadata": {},
   "source": [
    "This notebook explain the development of a 3D velocity model for Kathmandu Valley, Nepal which can be used for seismic analysis of the region. The geometry is constructed based on the model developed by Paudyal et al. [1] and van Westen et al. [2]. \n",
    "\n",
    "### How geometry is constructed? \n",
    "The code goes and finds the digital elevation map of a figure by first analyzing the colorbar and find the matching points on the figure and assign the correct value to it. The figures are extracted from Piya's thesis [2] by screenshotting, and, due to lack of resolution, there would be the need for adjustment of output to match the figures correctly. \n",
    "\n",
    "Four levels were explained in [2] which includes 1) bedrock level 2) bottom of lake deposit level 3) top of lake deposit level and 4) topography level. Or, in terms of thickness, which is used here, includes 1) before lake deposit thickness 2) lake deposit thickness and 3) after lake deposit level.\n",
    "\n"
   ]
  },
  {
   "cell_type": "code",
   "execution_count": 1,
   "metadata": {},
   "outputs": [],
   "source": [
    "import numpy as np\n",
    "import matplotlib as plt"
   ]
  },
  {
   "cell_type": "code",
   "execution_count": null,
   "metadata": {},
   "outputs": [],
   "source": []
  },
  {
   "cell_type": "code",
   "execution_count": null,
   "metadata": {},
   "outputs": [],
   "source": []
  },
  {
   "cell_type": "code",
   "execution_count": null,
   "metadata": {},
   "outputs": [],
   "source": []
  },
  {
   "cell_type": "code",
   "execution_count": null,
   "metadata": {},
   "outputs": [],
   "source": []
  },
  {
   "cell_type": "code",
   "execution_count": null,
   "metadata": {},
   "outputs": [],
   "source": []
  },
  {
   "cell_type": "markdown",
   "metadata": {},
   "source": [
    "# References\n",
    "\n",
    "1) Paudyal, Y. R., Yatabe, R., Bhandary, N. P., & Dahal, R. K. (2012). A study of local amplification effect of soil layers on ground motion in the Kathmandu Valley using microtremor analysis. Earthquake Engineering and Engineering Vibration, 11(2), 257-268.\n",
    "\n",
    "2) Piya, B. K.,  van Westen, C. J., & Woldai, T. (2006). Generation of Geological Database for Liquefaction Hazard Analysis in Kathmandu Valley, Nepal. In International Symposium on GEO-DISASTERS, INFRASTRUCTURE MANAGEMENT AND PROTECTION OF WORLD HERITAGE SITES\n",
    "\n"
   ]
  },
  {
   "cell_type": "code",
   "execution_count": null,
   "metadata": {},
   "outputs": [],
   "source": []
  }
 ],
 "metadata": {
  "kernelspec": {
   "display_name": "Python 3",
   "language": "python",
   "name": "python3"
  },
  "language_info": {
   "codemirror_mode": {
    "name": "ipython",
    "version": 3
   },
   "file_extension": ".py",
   "mimetype": "text/x-python",
   "name": "python",
   "nbconvert_exporter": "python",
   "pygments_lexer": "ipython3",
   "version": "3.7.3"
  }
 },
 "nbformat": 4,
 "nbformat_minor": 2
}
